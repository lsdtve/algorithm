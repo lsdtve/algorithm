{
 "cells": [
  {
   "cell_type": "markdown",
   "metadata": {},
   "source": [
    "# 2508번 : 사탕 박사 고창영\n",
    "\n",
    "### 문제\n",
    "---\n",
    "창영이가 드디어 취직을 했다!! 그가 30세까지 취직을 안하던 이유는 바로 마음에 다니는 직장을 찾지 못해서였다. 이번에 창영이가 취직한 곳은 사탕 공장이다. 사탕 공장에 다니면 사탕 처럼 달콤한 직장생활을 할 줄 알았지만, 8시간동안 사탕 품질을 검사해야 하는 작업은 너무나 지루했다.\n",
    "\n",
    "사탕의 품질은 다음과 같이 검사한다. 가장 먼저 사탕으로 가득 찬 박스를 연 다. 그 다음 사탕의 개수와 사탕이 없는 곳의 개수를 센다.\n",
    "\n",
    "지루함을 견디지 못한 창영이는 결국 품질을 검사하는 프로그램을 작성하기로 했다.\n",
    "\n",
    "r행 c열 행령이 주어진다. 이 행렬은 박스를 위에서 바라본 것이다. 행렬에는 다음과 같은 문자만 있다.\n",
    "\n",
    "\".\": 빈 곳\n",
    "\"o\": 사탕의 먹을 수 있는 부분\n",
    "\"<>v^\": 캔디 껍질\n",
    "사탕은 오직 2가지 모습만 있다.\n",
    "```\n",
    "1.    >o<\n",
    "\n",
    "2.    v\n",
    "      o\n",
    "      ^\n",
    "```\n",
    "위와 같은 연속된 3개의 문자만 사탕이다.\n",
    "\n",
    "사탕은 >o.와 같이 사탕의 일부만 존재할 수 있지만, 이 것은 사탕으로 세지 않는다.\n",
    "\n",
    "r행 c열 행렬이 주어졌을 때, 사탕의 개수를 출력하는 프로그램을 작성하시오.\n",
    "\n",
    "### 입력\n",
    "---\n",
    "첫째 줄에 테스트 케이스의 개수 t가 주어진다. 각 테스트 케이스는 빈 줄로 구분된다.\n",
    "\n",
    "각 테스트 케이스의 첫째 줄에는 r과 c 가 주어진다. (1<=r,c<=400) 그 다음 r개의 줄에는 행렬의 각 행이 순서대로 주어진다. 행렬의 각 행은 c개의 문자이며, \".o<>v^\"만 포함하고 있다. (각각의 아스키 값은 46, 111, 60, 62, 118, 94이다)\n",
    "\n",
    "### 출력\n",
    "---\n",
    "각각의 테스트 케이스에 대해 한 줄에 하나의 정수만 출력한다. 이 값은 박스에 들어있는 사탕의 개수이다."
   ]
  },
  {
   "cell_type": "code",
   "execution_count": null,
   "metadata": {},
   "outputs": [],
   "source": [
    "for _ in range(int(input())):\n",
    "    input()\n",
    "    r,c = map(int,input().split())\n",
    "    arr = [input() for i in range(r)]\n",
    "    ans = 0\n",
    "    for y in range(r):\n",
    "        for x in range(0,c-2):\n",
    "            if arr[y][x:x+3]=='>o<':\n",
    "                ans += 1\n",
    "    for x in range(c):\n",
    "        for y in range(0,r-2):\n",
    "            if arr[y][x]=='v' and arr[y+1][x]=='o' and arr[y+2][x]=='^':\n",
    "                ans += 1\n",
    "    print(ans)"
   ]
  }
 ],
 "metadata": {
  "kernelspec": {
   "display_name": "Python 3",
   "language": "python",
   "name": "python3"
  },
  "language_info": {
   "codemirror_mode": {
    "name": "ipython",
    "version": 3
   },
   "file_extension": ".py",
   "mimetype": "text/x-python",
   "name": "python",
   "nbconvert_exporter": "python",
   "pygments_lexer": "ipython3",
   "version": "3.7.3"
  }
 },
 "nbformat": 4,
 "nbformat_minor": 4
}
