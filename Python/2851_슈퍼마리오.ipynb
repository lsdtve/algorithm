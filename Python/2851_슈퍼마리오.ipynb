{
 "cells": [
  {
   "cell_type": "markdown",
   "metadata": {},
   "source": [
    "# 2851번 : 슈퍼마리오\n",
    "\n",
    "### 문제\n",
    "---\n",
    "슈퍼 마리오 앞에 10개의 버섯이 일렬로 놓여져 있다. 이 버섯을 먹으면 점수를 받는다.\n",
    "\n",
    "슈퍼 마리오는 버섯을 처음부터 나온 순서대로 집으려고 한다. 하지만, 모든 버섯을 집을 필요는 없고 중간에 중단할 수 있다.\n",
    "\n",
    "중간에 버섯을 먹는 것을 중단했다면, 그 이후에 나온 버섯은 모두 먹을 수 없다. 따라서 첫 버섯을 먹지 않았다면, 그 이후 버섯도 모두 먹을 수 없다.\n",
    "\n",
    "마리오는 받은 점수의 합을 최대한 100에 가깝게 만들려고 한다.\n",
    "\n",
    "버섯의 점수가 주어졌을 때, 마리오가 받는 점수를 출력하는 프로그램을 작성하시오.\n",
    "\n",
    "### 입력\n",
    "---\n",
    "총 10개의 줄에 각각의 버섯의 점수가 주어진다. 이 값은 100보다 작거나 같은 양의 정수이다. 버섯이 나온 순서대로 점수가 주어진다.\n",
    "\n",
    "### 출력\n",
    "---\n",
    "첫째 줄에 마리오가 받는 점수를 출력한다. 만약 100에 가까운 수가 2개라면 (예: 98, 102) 마리오는 큰 값을 선택한다."
   ]
  },
  {
   "cell_type": "code",
   "execution_count": null,
   "metadata": {},
   "outputs": [],
   "source": [
    "arr = []\n",
    "tot = 0\n",
    "for i in range(10):\n",
    "    n = int(input())\n",
    "    tot += n\n",
    "    arr.append(tot)\n",
    "arr.sort(key=lambda x: abs(x-100))\n",
    "d = abs(arr[0]-100)\n",
    "ans = []\n",
    "for i in arr:\n",
    "    if d==abs(i-100):\n",
    "        ans.append(i)\n",
    "    else:\n",
    "        break\n",
    "ans.sort()\n",
    "print(ans[-1])"
   ]
  }
 ],
 "metadata": {
  "kernelspec": {
   "display_name": "Python 3",
   "language": "python",
   "name": "python3"
  },
  "language_info": {
   "codemirror_mode": {
    "name": "ipython",
    "version": 3
   },
   "file_extension": ".py",
   "mimetype": "text/x-python",
   "name": "python",
   "nbconvert_exporter": "python",
   "pygments_lexer": "ipython3",
   "version": "3.7.3"
  }
 },
 "nbformat": 4,
 "nbformat_minor": 2
}
