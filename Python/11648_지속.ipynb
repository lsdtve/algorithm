{
 "cells": [
  {
   "cell_type": "markdown",
   "metadata": {},
   "source": [
    "# 11648번 : 지속\n",
    "\n",
    "### 문제\n",
    "---\n",
    "키파는 곱하기를 좋아한다. 그래서 키파는 수를 보면 각 자리 숫자를 모두 곱해서 하나의 수를 만든다. 키파는 기쁘다. 키파는 이 작업을 계속해서 반복한다. 그런데 수가 한 자리가 되었다. 키파는 슬퍼졌다.\n",
    "\n",
    "키파의 기쁨이 지속될 수 있는 것이 몇 단계인지를 출력하는 프로그램을 작성하시오. 예를 들어 679라면:\n",
    "\n",
    "679 → 6*7*9 = 378 (1단계)\n",
    "378 → 3*7*8 = 168 (2단계)\n",
    "168 → 1*6*8 = 48 (3단계)\n",
    "48 → 4*8 = 32 (4단계)\n",
    "32 → 3*2 = 6 (5단계: 키파는 슬퍼졌다.)\n",
    "키파는 5단계만에 슬퍼지므로 5를 출력하면 된다.\n",
    "\n",
    "### 입력\n",
    "---\n",
    "각각의 입력은 하나의 테스트 케이스로 이루어진다. 입력은 첫 번째 줄에 선행하는 0이 없는 9자리 이하의 수가 하나 주어진다.\n",
    "\n",
    "### 출력\n",
    "---\n",
    "각각의 입력에 대해 키파의 기쁨이 지속될 수 있는 단계의 수를 출력하라. "
   ]
  },
  {
   "cell_type": "code",
   "execution_count": null,
   "metadata": {},
   "outputs": [],
   "source": [
    "n = int(input())\n",
    "ans = 0\n",
    "while n>=10:\n",
    "    temp = 1\n",
    "    for i in str(n):\n",
    "        temp *= int(i)\n",
    "    n = temp\n",
    "    ans += 1\n",
    "print(ans)"
   ]
  }
 ],
 "metadata": {
  "kernelspec": {
   "display_name": "Python 3",
   "language": "python",
   "name": "python3"
  },
  "language_info": {
   "codemirror_mode": {
    "name": "ipython",
    "version": 3
   },
   "file_extension": ".py",
   "mimetype": "text/x-python",
   "name": "python",
   "nbconvert_exporter": "python",
   "pygments_lexer": "ipython3",
   "version": "3.7.3"
  }
 },
 "nbformat": 4,
 "nbformat_minor": 2
}
