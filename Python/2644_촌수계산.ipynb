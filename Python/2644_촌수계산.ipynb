{
 "cells": [
  {
   "cell_type": "markdown",
   "metadata": {},
   "source": [
    "# 2644번 : 촌수계산\n",
    "\n",
    "### 문제\n",
    "---\n",
    "우리 나라는 가족 혹은 친척들 사이의 관계를 촌수라는 단위로 표현하는 독특한 문화를 가지고 있다. 이러한 촌수는 다음과 같은 방식으로 계산된다. 기본적으로 부모와 자식 사이를 1촌으로 정의하고 이로부터 사람들 간의 촌수를 계산한다. 예를 들면 나와 아버지, 아버지와 할아버지는 각각 1촌으로 나와 할아버지는 2촌이 되고, 아버지 형제들과 할아버지는 1촌, 나와 아버지 형제들과는 3촌이 된다.\n",
    "\n",
    "여러 사람들에 대한 부모 자식들 간의 관계가 주어졌을 때, 주어진 두 사람의 촌수를 계산하는 프로그램을 작성하시오.\n",
    "\n",
    "### 입력\n",
    "---\n",
    "사람들은 1, 2, 3, …, n (1≤n≤100)의 연속된 번호로 각각 표시된다. 입력 파일의 첫째 줄에는 전체 사람의 수 n이 주어지고, 둘째 줄에는 촌수를 계산해야 하는 서로 다른 두 사람의 번호가 주어진다. 그리고 셋째 줄에는 부모 자식들 간의 관계의 개수 m이 주어진다. 넷째 줄부터는 부모 자식간의 관계를 나타내는 두 번호 x,y가 각 줄에 나온다. 이때 앞에 나오는 번호 x는 뒤에 나오는 정수 y의 부모 번호를 나타낸다.\n",
    "\n",
    "각 사람의 부모는 최대 한 명만 주어진다.\n",
    "\n",
    "### 출력\n",
    "---\n",
    "입력에서 요구한 두 사람의 촌수를 나타내는 정수를 출력한다. 어떤 경우에는 두 사람의 친척 관계가 전혀 없어 촌수를 계산할 수 없을 때가 있다. 이때에는 -1을 출력해야 한다."
   ]
  },
  {
   "cell_type": "code",
   "execution_count": null,
   "metadata": {},
   "outputs": [],
   "source": [
    "from collections import deque\n",
    "import sys\n",
    "read = sys.stdin.readline\n",
    "\n",
    "def bfs():\n",
    "    q = deque()\n",
    "    q.append(a)\n",
    "    visited = {}\n",
    "    visited[a] = 0\n",
    "    while q:\n",
    "        n = q.popleft()\n",
    "        if n==b:\n",
    "            return visited[n]\n",
    "        for i in arr[n]:\n",
    "            if i not in visited:\n",
    "                q.append(i)\n",
    "                visited[i] = visited[n]+1\n",
    "    return -1\n",
    "\n",
    "N = int(read())\n",
    "a,b = map(int,read().split())\n",
    "t = int(read())\n",
    "arr = {}\n",
    "for i in range(1,N+1):\n",
    "    arr[i] = []\n",
    "\n",
    "for i in range(t):\n",
    "    t1,t2 = map(int,read().split())\n",
    "    arr[t1].append(t2)\n",
    "    arr[t2].append(t1)\n",
    "print(bfs())"
   ]
  }
 ],
 "metadata": {
  "kernelspec": {
   "display_name": "Python 3",
   "language": "python",
   "name": "python3"
  },
  "language_info": {
   "codemirror_mode": {
    "name": "ipython",
    "version": 3
   },
   "file_extension": ".py",
   "mimetype": "text/x-python",
   "name": "python",
   "nbconvert_exporter": "python",
   "pygments_lexer": "ipython3",
   "version": "3.7.4"
  }
 },
 "nbformat": 4,
 "nbformat_minor": 2
}
