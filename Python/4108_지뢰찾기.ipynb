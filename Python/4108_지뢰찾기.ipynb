{
 "cells": [
  {
   "cell_type": "markdown",
   "metadata": {},
   "source": [
    "# 4108번 : 지뢰찾기\n",
    "\n",
    "### 문제\n",
    "---\n",
    "07년 개봉한 영화 '지뢰찾기'는 지뢰의 수를 조사해야하는 요원 예슬의 이야기를 다룬 영화다.\n",
    "\n",
    "정보기관의 요원이었던 예슬은 심심해서 컴퓨터로 지뢰찾기를 켰다가 인사팀에 걸려 지뢰제거팀으로 좌천된다. 좌천된 예슬에게 처음 부여된 임무는 지뢰 제거도 아닌 지뢰 수 조사!\n",
    "예슬의 첫 임무에서 교육요원으로 배정된 다민은 \"처음 건 무조건 안 터져.\" 라고 말하며 거침없이 땅을 팠지만 지뢰가 터져 얄짤없이 사망하고 만다. 지뢰 밭에 혼자 남겨진 예슬! 과연 임무를 마치고 안전하게 돌아갈 수 있을 것인가!\n",
    "\n",
    "지뢰밭은 R X C개의 칸으로 이루어져있다.\n",
    "\n",
    "예슬이 발을 딛는 구역 중에서 일부 칸에는 지뢰가 들어있고 나머지는 모두 비어있다. 예슬은 모든 비어있는 칸마다 인접해 있는 지뢰의 개수를 세서 적어야 한다.\n",
    "\n",
    "선이나 점을 공유하고 있는 두개의 칸을 인접해있다고 정의한다. 즉, 모든 칸은 최대 8개의 인접한 칸을 갖고 있다. (상, 하, 좌, 우, 4개의 대각선칸)\n",
    "\n",
    "### 입력\n",
    "---\n",
    "여러 개의 테스트 케이스가 제공된다.\n",
    "\n",
    "각 테스트 케이스의 첫 번째 줄에는 행과 열의 수를 표현하는 두 개의 정수 R,C가 입력된다. (1 ≤ R,C ≤ 100)\n",
    "\n",
    "이후 입력되는 R개의 줄은 C개의 문자로 이루어져있다. 각 문자는 지뢰를 표현하는 '*'과 빈 공간을 표현하는 '.' 이다.\n",
    "\n",
    "0 0이 입력되면 종료된다.\n",
    "\n",
    "### 출력\n",
    "---\n",
    "C개의 문자들이 포함된 R개의 줄을 출력한다. 단, 모든 '.' 대신 인접한 칸에 위치한 지뢰의 수로 변경해 출력한다. '*' 칸은 그대로 출력한다.\n",
    "\n",
    "문자 사이에 공백이나 줄 사이에 공백 줄이 있어선 안 된다."
   ]
  },
  {
   "cell_type": "code",
   "execution_count": null,
   "metadata": {},
   "outputs": [],
   "source": [
    "def go(y,x):\n",
    "    for dy in range(-1,2):\n",
    "        for dx in range(-1,2):\n",
    "            ny = y+dy\n",
    "            nx = x+dx\n",
    "            if 0>ny or ny>=r or 0>nx or nx>=c:\n",
    "                continue\n",
    "            if arr[ny][nx]!='*':\n",
    "                ans[ny][nx] += 1\n",
    "    return\n",
    "\n",
    "while True:\n",
    "    r,c = map(int,input().split())\n",
    "    if r==0:\n",
    "        break\n",
    "    arr = []\n",
    "    for i in range(r):\n",
    "        arr.append(list(input()))\n",
    "    ans = [[0]*c for i_ in range(r)]\n",
    "    for y in range(r):\n",
    "        for x in range(c):\n",
    "            if arr[y][x]=='*':\n",
    "                ans[y][x] = '*'\n",
    "                go(y,x)\n",
    "    for i in ans:\n",
    "        print(''.join(map(str,i)))"
   ]
  }
 ],
 "metadata": {
  "kernelspec": {
   "display_name": "Python 3",
   "language": "python",
   "name": "python3"
  },
  "language_info": {
   "codemirror_mode": {
    "name": "ipython",
    "version": 3
   },
   "file_extension": ".py",
   "mimetype": "text/x-python",
   "name": "python",
   "nbconvert_exporter": "python",
   "pygments_lexer": "ipython3",
   "version": "3.7.3"
  }
 },
 "nbformat": 4,
 "nbformat_minor": 4
}
