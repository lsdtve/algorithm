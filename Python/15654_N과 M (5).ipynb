{
 "cells": [
  {
   "cell_type": "markdown",
   "metadata": {},
   "source": [
    "# 15654번 : N과 M (5)\n",
    "\n",
    "### 문제\n",
    "---\n",
    "N개의 자연수와 자연수 M이 주어졌을 때, 아래 조건을 만족하는 길이가 M인 수열을 모두 구하는 프로그램을 작성하시오. N개의 자연수는 모두 다른 수이다.\n",
    "\n",
    "N개의 자연수 중에서 M개를 고른 수열\n",
    "\n",
    "### 입력\n",
    "---\n",
    "첫째 줄에 N과 M이 주어진다. (1 ≤ M ≤ N ≤ 8)\n",
    "\n",
    "둘째 줄에 N개의 수가 주어진다. 입력으로 주어지는 수는 10,000보다 작거나 같은 자연수이다.\n",
    "\n",
    "### 출력\n",
    "---\n",
    "한 줄에 하나씩 문제의 조건을 만족하는 수열을 출력한다. 중복되는 수열을 여러 번 출력하면 안되며, 각 수열은 공백으로 구분해서 출력해야 한다.\n",
    "\n",
    "수열은 사전 순으로 증가하는 순서로 출력해야 한다."
   ]
  },
  {
   "cell_type": "code",
   "execution_count": null,
   "metadata": {},
   "outputs": [],
   "source": [
    "def go(cnt):\n",
    "    if cnt==m:\n",
    "        print(' '.join(map(str,result)))\n",
    "        return\n",
    "    for i in range(0,n):\n",
    "        if not visited[i]:\n",
    "            visited[i] = True\n",
    "            result[cnt] = arr[i]\n",
    "            go(cnt+1)\n",
    "            visited[i] = False\n",
    "\n",
    "n,m = map(int,input().split())\n",
    "arr = sorted(list(map(int,input().split())))\n",
    "visited = [False]*n\n",
    "result = [0]*m\n",
    "go(0)"
   ]
  }
 ],
 "metadata": {
  "kernelspec": {
   "display_name": "Python 3",
   "language": "python",
   "name": "python3"
  },
  "language_info": {
   "codemirror_mode": {
    "name": "ipython",
    "version": 3
   },
   "file_extension": ".py",
   "mimetype": "text/x-python",
   "name": "python",
   "nbconvert_exporter": "python",
   "pygments_lexer": "ipython3",
   "version": "3.7.3"
  }
 },
 "nbformat": 4,
 "nbformat_minor": 4
}
