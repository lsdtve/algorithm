{
 "cells": [
  {
   "cell_type": "markdown",
   "metadata": {},
   "source": [
    "# 9251번 : LCS\n",
    "\n",
    "### 문제\n",
    "---\n",
    "LCS(Longest Common Subsequence, 최장 공통 부분 수열)문제는 두 수열이 주어졌을 때, 모두의 부분 수열이 되는 수열 중 가장 긴 것을 찾는 문제이다.\n",
    "\n",
    "예를 들어, ACAYKP와 CAPCAK의 LCS는 ACAK가 된다.\n",
    "\n",
    "### 입력\n",
    "---\n",
    "첫째 줄과 둘째 줄에 두 문자열이 주어진다. 문자열은 알파벳 대문자로만 이루어져 있으며, 최대 1000글자로 이루어져 있다.\n",
    "\n",
    "### 출력\n",
    "---\n",
    "첫째 줄에 입력으로 주어진 두 문자열의 LCS의 길이를 출력한다."
   ]
  },
  {
   "cell_type": "code",
   "execution_count": null,
   "metadata": {},
   "outputs": [],
   "source": [
    "a,b = input(),input()\n",
    "an = len(a); bn = len(b)\n",
    "dp = [[0]*(an+1) for _ in range(bn+1)]\n",
    "for i in range(1,bn+1):\n",
    "    for j in range(1,an+1):\n",
    "        dp[i][j] = max(dp[i][j-1],dp[i-1][j],dp[i-1][j-1]+(a[j-1]==b[i-1]))\n",
    "print(dp[bn][an])"
   ]
  }
 ],
 "metadata": {
  "kernelspec": {
   "display_name": "Python 3",
   "language": "python",
   "name": "python3"
  },
  "language_info": {
   "codemirror_mode": {
    "name": "ipython",
    "version": 3
   },
   "file_extension": ".py",
   "mimetype": "text/x-python",
   "name": "python",
   "nbconvert_exporter": "python",
   "pygments_lexer": "ipython3",
   "version": "3.7.4"
  }
 },
 "nbformat": 4,
 "nbformat_minor": 2
}
