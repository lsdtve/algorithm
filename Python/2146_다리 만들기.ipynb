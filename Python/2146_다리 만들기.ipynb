{
 "cells": [
  {
   "cell_type": "markdown",
   "metadata": {},
   "source": [
    "# 2146번 : 다리 만들기\n",
    "\n",
    "### 문제\n",
    "---\n",
    "여러 섬으로 이루어진 나라가 있다. 이 나라의 대통령은 섬을 잇는 다리를 만들겠다는 공약으로 인기몰이를 해 당선될 수 있었다. 하지만 막상 대통령에 취임하자, 다리를 놓는다는 것이 아깝다는 생각을 하게 되었다. 그래서 그는, 생색내는 식으로 한 섬과 다른 섬을 잇는 다리 하나만을 만들기로 하였고, 그 또한 다리를 가장 짧게 하여 돈을 아끼려 하였다.\n",
    "\n",
    "이 나라는 N×N크기의 이차원 평면상에 존재한다. 이 나라는 여러 섬으로 이루어져 있으며, 섬이란 동서남북으로 육지가 붙어있는 덩어리를 말한다. 다음은 세 개의 섬으로 이루어진 나라의 지도이다.\n",
    "\n",
    "\n",
    "\n",
    "위의 그림에서 색이 있는 부분이 육지이고, 색이 없는 부분이 바다이다. 이 바다에 가장 짧은 다리를 놓아 두 대륙을 연결하고자 한다. 가장 짧은 다리란, 다리가 격자에서 차지하는 칸의 수가 가장 작은 다리를 말한다. 다음 그림에서 두 대륙을 연결하는 다리를 볼 수 있다.\n",
    "\n",
    "\n",
    "\n",
    "물론 위의 방법 외에도 다리를 놓는 방법이 여러 가지 있으나, 위의 경우가 놓는 다리의 길이가 3으로 가장 짧다(물론 길이가 3인 다른 다리를 놓을 수 있는 방법도 몇 가지 있다).\n",
    "\n",
    "지도가 주어질 때, 가장 짧은 다리 하나를 놓아 두 대륙을 연결하는 방법을 찾으시오.\n",
    "\n",
    "### 입력\n",
    "---\n",
    "첫 줄에는 지도의 크기 N(100이하의 자연수)가 주어진다. 그 다음 N줄에는 N개의 숫자가 빈칸을 사이에 두고 주어지며, 0은 바다, 1은 육지를 나타낸다. 항상 두 개 이상의 섬이 있는 데이터만 입력으로 주어진다.\n",
    "\n",
    "### 출력\n",
    "---\n",
    "첫째 줄에 가장 짧은 다리의 길이를 출력한다."
   ]
  },
  {
   "cell_type": "code",
   "execution_count": null,
   "metadata": {},
   "outputs": [],
   "source": [
    "import collections\n",
    "d = ((1,0),(-1,0),(0,1),(0,-1))\n",
    "\n",
    "def dfs(x,y):\n",
    "    stack = [[x,y]]\n",
    "    visited[y][x] = True\n",
    "    visited2 = [[0]*N for i in range(N)]\n",
    "    q = collections.deque()\n",
    "    while stack:\n",
    "        x,y = stack.pop()\n",
    "        q.append([x,y])\n",
    "        visited2[y][x] = 1\n",
    "        for dx,dy in d:\n",
    "            nx = x+dx\n",
    "            ny = y+dy\n",
    "            if 0<=nx<N and 0<=ny<N and arr[ny][nx] and not visited[ny][nx]:\n",
    "                visited[ny][nx] = True\n",
    "                stack.append([nx,ny])\n",
    "    while q:\n",
    "        x,y = q.popleft()\n",
    "        for dx,dy in d:\n",
    "            nx = x+dx\n",
    "            ny = y+dy\n",
    "            if 0<=nx<N and 0<=ny<N and visited2[ny][nx]==0:\n",
    "                if arr[ny][nx] == 1:\n",
    "                    return visited2[y][x] -1\n",
    "                visited2[ny][nx] = visited2[y][x] + 1\n",
    "                q.append([nx,ny])\n",
    "\n",
    "\n",
    "N = int(input())\n",
    "arr = [list(map(int,input().split())) for i in range(N)]\n",
    "visited = [[False]*N for i in range(N)]\n",
    "ans = 9999999\n",
    "for y in range(N):\n",
    "    for x in range(N):\n",
    "        if not visited[y][x] and arr[y][x]:\n",
    "            ans = min(ans,dfs(x,y))\n",
    "print(ans)\n"
   ]
  }
 ],
 "metadata": {
  "kernelspec": {
   "display_name": "Python 3",
   "language": "python",
   "name": "python3"
  },
  "language_info": {
   "codemirror_mode": {
    "name": "ipython",
    "version": 3
   },
   "file_extension": ".py",
   "mimetype": "text/x-python",
   "name": "python",
   "nbconvert_exporter": "python",
   "pygments_lexer": "ipython3",
   "version": "3.7.3"
  }
 },
 "nbformat": 4,
 "nbformat_minor": 4
}
