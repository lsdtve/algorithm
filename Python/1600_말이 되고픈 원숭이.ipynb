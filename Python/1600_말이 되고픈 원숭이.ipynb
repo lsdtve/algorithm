{
 "cells": [
  {
   "cell_type": "markdown",
   "metadata": {},
   "source": [
    "# 1600번 : 말이 되고픈 원숭이\n",
    "\n",
    "### 문제\n",
    "---\n",
    "동물원에서 막 탈출한 원숭이 한 마리가 세상구경을 하고 있다. 그 녀석은 말(Horse)이 되기를 간절히 원했다. 그래서 그는 말의 움직임을 유심히 살펴보고 그대로 따라 하기로 하였다. 말은 말이다. 말은 격자판에서 체스의 나이트와 같은 이동방식을 가진다. 다음 그림에 말의 이동방법이 나타나있다. x표시한 곳으로 말이 갈 수 있다는 뜻이다. 참고로 말은 장애물을 뛰어넘을 수 있다.\n",
    "```\n",
    " \tx\t \tx\t \n",
    "x\t \t \t \tx\n",
    " \t \t말\t \t \n",
    "x\t \t \t \tx\n",
    " \tx\t \tx\t \n",
    "```\n",
    "근데 원숭이는 한 가지 착각하고 있는 것이 있다. 말은 저렇게 움직일 수 있지만 원숭이는 능력이 부족해서 총 K번만 위와 같이 움직일 수 있고, 그 외에는 그냥 인접한 칸으로만 움직일 수 있다. 대각선 방향은 인접한 칸에 포함되지 않는다.\n",
    "\n",
    "이제 원숭이는 머나먼 여행길을 떠난다. 격자판의 맨 왼쪽 위에서 시작해서 맨 오른쪽 아래까지 가야한다. 인접한 네 방향으로 한 번 움직이는 것, 말의 움직임으로 한 번 움직이는 것, 모두 한 번의 동작으로 친다. 격자판이 주어졌을 때, 원숭이가 최소한의 동작으로 시작지점에서 도착지점까지 갈 수 있는 방법을 알아내는 프로그램을 작성하시오.\n",
    "\n",
    "### 입력\n",
    "---\n",
    "첫째 줄에 자연수 K가 주어진다. 둘째 줄에 격자판의 가로길이 W, 세로길이 H가 주어진다. 그 다음 H줄에 걸쳐 W개의 숫자가 주어지는데, 0은 아무것도 없는 평지, 1은 장애물을 뜻한다. 장애물이 있는 곳으로는 이동할 수 없다. 시작점과 도착점은 항상 평지이다. W와 H는 1이상 200이하의 자연수이고, K는 0이상 30이하의 정수이다.\n",
    "\n",
    "###출력\n",
    "---\n",
    "첫째 줄에 원숭이의 동작수의 최솟값을 출력한다. 시작점에서 도착점까지 갈 수 없는 경우엔 -1을 출력한다."
   ]
  },
  {
   "cell_type": "code",
   "execution_count": null,
   "metadata": {},
   "outputs": [],
   "source": [
    "import collections\n",
    "D = ((0,1),(0,-1),(1,0),(-1,0))\n",
    "DK = ((-2,-1),(-1,-2),(1,-2),(2,-1),(2,1),(1,2),(-1,2),(-2,1))\n",
    "def bfs():\n",
    "    q = collections.deque()\n",
    "    q.append([0,0,0])\n",
    "    visited[0][0][0] = 0\n",
    "    while q:\n",
    "        x,y,cnt = q.popleft()\n",
    "        for dx,dy in D:\n",
    "            ny = y+dy\n",
    "            nx = x+dx\n",
    "            if 0<=ny<h and 0<=nx<w and visited[cnt][ny][nx]==-1 and arr[ny][nx]==0:\n",
    "                visited[cnt][ny][nx] = visited[cnt][y][x] + 1\n",
    "                q.append([nx,ny,cnt])\n",
    "        if cnt < k:\n",
    "            for dy,dx in DK:\n",
    "                ny = y+dy\n",
    "                nx = x+dx\n",
    "                if 0<=ny<h and 0<=nx<w and visited[cnt+1][ny][nx]==-1 and arr[ny][nx]==0:\n",
    "                    visited[cnt+1][ny][nx] = visited[cnt][y][x] + 1\n",
    "                    q.appendleft([nx,ny,cnt+1])\n",
    "\n",
    "k = int(input())\n",
    "w,h = map(int,input().split())\n",
    "visited = [[[-1]*w for i in range(h)] for j in range(k+1)]\n",
    "arr = [list(map(int,input().split())) for i in range(h)]\n",
    "bfs()\n",
    "ans = 999999\n",
    "for i in range(k+1):\n",
    "    if visited[i][h-1][w-1] != -1:\n",
    "        ans = min(ans,visited[i][h-1][w-1])\n",
    "print(-1 if ans==999999 else ans)"
   ]
  }
 ],
 "metadata": {
  "kernelspec": {
   "display_name": "Python 3",
   "language": "python",
   "name": "python3"
  },
  "language_info": {
   "codemirror_mode": {
    "name": "ipython",
    "version": 3
   },
   "file_extension": ".py",
   "mimetype": "text/x-python",
   "name": "python",
   "nbconvert_exporter": "python",
   "pygments_lexer": "ipython3",
   "version": "3.7.3"
  }
 },
 "nbformat": 4,
 "nbformat_minor": 4
}
