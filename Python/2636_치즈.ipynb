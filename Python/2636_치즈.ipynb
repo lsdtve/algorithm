{
 "cells": [
  {
   "cell_type": "markdown",
   "metadata": {},
   "source": [
    "# 2636번 : 치즈\n",
    "\n",
    "### 문제\n",
    "---\n",
    "아래 <그림 1>과 같이 정사각형 칸들로 이루어진 사각형 모양의 판이 있고, 그 위에 얇은 치즈(회색으로 표시된 부분)가 놓여 있다. 판의 가장자리(<그림 1>에서 네모 칸에 X친 부분)에는 치즈가 놓여 있지 않으며 치즈에는 하나 이상의 구멍이 있을 수 있다.\n",
    "\n",
    "이 치즈를 공기 중에 놓으면 녹게 되는데 공기와 접촉된 칸은 한 시간이 지나면 녹아 없어진다. 치즈의 구멍 속에는 공기가 없지만 구멍을 둘러싼 치즈가 녹아서 구멍이 열리면 구멍 속으로 공기가 들어가게 된다. <그림 1>의 경우, 치즈의 구멍을 둘러싼 치즈는 녹지 않고 ‘c’로 표시된 부분만 한 시간 후에 녹아 없어져서 <그림 2>와 같이 된다.\n",
    "\n",
    "\n",
    "\n",
    "다시 한 시간 후에는 <그림 2>에서 ‘c’로 표시된 부분이 녹아 없어져서 <그림 3>과 같이 된다.\n",
    "\n",
    "\n",
    "\n",
    "<그림 3>은 원래 치즈의 두 시간 후 모양을 나타내고 있으며, 남은 조각들은 한 시간이 더 지나면 모두 녹아 없어진다. 그러므로 처음 치즈가 모두 녹아 없어지는 데는 세 시간이 걸린다. <그림 3>과 같이 치즈가 녹는 과정에서 여러 조각으로 나누어 질 수도 있다.\n",
    "\n",
    "입력으로 사각형 모양의 판의 크기와 한 조각의 치즈가 판 위에 주어졌을 때, 공기 중에서 치즈가 모두 녹아 없어지는 데 걸리는 시간과 모두 녹기 한 시간 전에 남아있는 치즈조각이 놓여 있는 칸의 개수를 구하는 프로그램을 작성하시오.\n",
    "\n",
    "### 입력\n",
    "---\n",
    "첫째 줄에는 사각형 모양 판의 세로와 가로의 길이가 양의 정수로 주어진다. 세로와 가로의 길이는 최대 100이다. 판의 각 가로줄의 모양이 윗 줄부터 차례로 둘째 줄부터 마지막 줄까지 주어진다. 치즈가 없는 칸은 0, 치즈가 있는 칸은 1로 주어지며 각 숫자 사이에는 빈칸이 하나씩 있다.\n",
    "\n",
    "### 출력\n",
    "---\n",
    "첫째 줄에는 치즈가 모두 녹아서 없어지는 데 걸리는 시간을 출력하고, 둘째 줄에는 모두 녹기 한 시간 전에 남아있는 치즈조각이 놓여 있는 칸의 개수를 출력한다."
   ]
  },
  {
   "cell_type": "code",
   "execution_count": null,
   "metadata": {},
   "outputs": [],
   "source": [
    "import collections\n",
    "import sys\n",
    "read = sys.stdin.readline\n",
    "d = ((1,0),(0,1),(-1,0),(0,-1))\n",
    "\n",
    "def bfs():\n",
    "    q = collections.deque()\n",
    "    q.append([0,0])\n",
    "    remove_set = set()\n",
    "    cnt = 0\n",
    "    visited = [[False]*W for i in range(H)]\n",
    "    while q:\n",
    "        x,y = q.popleft()\n",
    "        for dx,dy in d:\n",
    "            nx = x+dx\n",
    "            ny = y+dy\n",
    "            if 0<=nx<W and 0<=ny<H and not visited[ny][nx]:\n",
    "                if arr[ny][nx]:\n",
    "                    remove_set.add(nx+ny*1000)\n",
    "                    cnt += 1\n",
    "                else:\n",
    "                    q.append([nx,ny])\n",
    "                visited[ny][nx] = True\n",
    "\n",
    "    for n in remove_set:\n",
    "        y = n//1000\n",
    "        x = n%1000\n",
    "        arr[y][x] = 0\n",
    "    return cnt\n",
    "\n",
    "H,W = map(int,read().split())\n",
    "arr = [list(map(int,read().split())) for i in range(H)]\n",
    "time = 0\n",
    "k = 0\n",
    "while True:\n",
    "    temp = bfs()\n",
    "    if temp==0:\n",
    "        break\n",
    "    k = temp\n",
    "    time += 1\n",
    "print(time)\n",
    "print(k)"
   ]
  }
 ],
 "metadata": {
  "kernelspec": {
   "display_name": "Python 3",
   "language": "python",
   "name": "python3"
  },
  "language_info": {
   "codemirror_mode": {
    "name": "ipython",
    "version": 3
   },
   "file_extension": ".py",
   "mimetype": "text/x-python",
   "name": "python",
   "nbconvert_exporter": "python",
   "pygments_lexer": "ipython3",
   "version": "3.7.3"
  }
 },
 "nbformat": 4,
 "nbformat_minor": 4
}
