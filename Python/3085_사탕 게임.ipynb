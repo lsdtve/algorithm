{
 "cells": [
  {
   "cell_type": "markdown",
   "metadata": {},
   "source": [
    "# 3085번 : 사탕 게임\n",
    "\n",
    "### 문제\n",
    "---\n",
    "상근이는 어렸을 적에 \"봄보니 (Bomboni)\" 게임을 즐겨했다.\n",
    "\n",
    "가장 처음에 N×N크기에 사탕을 채워 놓는다. 사탕의 색은 모두 같지 않을 수도 있다. 상근이는 사탕의 색이 다른 인접한 두 칸을 고른다. 그 다음 고른 칸에 들어있는 사탕을 서로 교환한다. 이제, 모두 같은 색으로 이루어져 있는 가장 긴 연속 부분(행 또는 열)을 고른 다음 그 사탕을 모두 먹는다.\n",
    "\n",
    "사탕이 채워진 상태가 주어졌을 때, 상근이가 먹을 수 있는 사탕의 최대 개수를 구하는 프로그램을 작성하시오.\n",
    "\n",
    "### 입력\n",
    "---\n",
    "첫째 줄에 보드의 크기 N이 주어진다. (3 ≤ N ≤ 50)\n",
    "\n",
    "다음 N개 줄에는 보드에 채워져 있는 사탕의 색상이 주어진다. 빨간색은 C, 파란색은 P, 초록색은 Z, 노란색은 Y로 주어진다.\n",
    "\n",
    "사탕의 색이 다른 인접한 두 칸이 존재하는 입력만 주어진다.\n",
    "\n",
    "### 출력\n",
    "---\n",
    "첫째 줄에 상근이가 먹을 수 있는 사탕의 최대 개수를 출력한다."
   ]
  },
  {
   "cell_type": "code",
   "execution_count": null,
   "metadata": {},
   "outputs": [],
   "source": [
    "def check(cy,cx):\n",
    "    result = 0\n",
    "    # x축검사\n",
    "    for y in range(cy,cy+2):\n",
    "        if y>=N-1:\n",
    "            break\n",
    "        temp = [arr[y][0],1]\n",
    "        for x in range(1,N):\n",
    "            if temp[0]==arr[y][x]:\n",
    "                temp[1] += 1\n",
    "                result = max(result,temp[1])\n",
    "            else:\n",
    "                temp = [arr[y][x],1]\n",
    "    # y축검사\n",
    "    for x in range(cx,cx+2):\n",
    "        if x >= N - 1:\n",
    "            break\n",
    "        temp = [arr[0][x], 1]\n",
    "        for y in range(1,N):\n",
    "            if temp[0] == arr[y][x]:\n",
    "                temp[1] += 1\n",
    "                result = max(result, temp[1])\n",
    "            else:\n",
    "                temp = [arr[y][x], 1]\n",
    "    return result\n",
    "\n",
    "N = int(input())\n",
    "arr = [list(input()) for i in range(N)]\n",
    "d = ((1,0),(0,1))\n",
    "ans = 0\n",
    "for y in range(N):\n",
    "    for x in range(N):\n",
    "        for dx,dy in d:\n",
    "            ny = y + dy\n",
    "            nx = x + dx\n",
    "            if ny>=N or nx>=N:\n",
    "                continue\n",
    "            arr[ny][nx], arr[y][x] = arr[y][x], arr[ny][nx]\n",
    "            ans = max(ans,check(y,x))\n",
    "            arr[ny][nx], arr[y][x] = arr[y][x], arr[ny][nx]\n",
    "print(ans)"
   ]
  }
 ],
 "metadata": {
  "kernelspec": {
   "display_name": "Python 3",
   "language": "python",
   "name": "python3"
  },
  "language_info": {
   "codemirror_mode": {
    "name": "ipython",
    "version": 3
   },
   "file_extension": ".py",
   "mimetype": "text/x-python",
   "name": "python",
   "nbconvert_exporter": "python",
   "pygments_lexer": "ipython3",
   "version": "3.7.3"
  }
 },
 "nbformat": 4,
 "nbformat_minor": 4
}
