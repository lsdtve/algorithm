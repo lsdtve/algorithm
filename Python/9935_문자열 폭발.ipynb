{
 "cells": [
  {
   "cell_type": "markdown",
   "metadata": {},
   "source": [
    "# 9935번 : 문자열 폭발\n",
    "\n",
    "### 문제\n",
    "---\n",
    "상근이는 문자열에 폭발 문자열을 심어 놓았다. 폭발 문자열이 폭발하면 그 문자는 문자열에서 사라지며, 남은 문자열은 합쳐지게 된다.\n",
    "\n",
    "폭발은 다음과 같은 과정으로 진행된다.\n",
    "\n",
    "문자열이 폭발 문자열을 포함하고 있는 경우에, 모든 폭발 문자열이 폭발하게 된다. 남은 문자열을 순서대로 이어 붙여 새로운 문자열을 만든다.\n",
    "새로 생긴 문자열에 폭발 문자열이 포함되어 있을 수도 있다.\n",
    "폭발은 폭발 문자열이 문자열에 없을 때까지 계속된다.\n",
    "상근이는 모든 폭발이 끝난 후에 어떤 문자열이 남는지 구해보려고 한다. 남아있는 문자가 없는 경우가 있다. 이때는 \"FRULA\"를 출력한다.\n",
    "\n",
    "폭발 문자열은 같은 문자를 두 개 이상 포함하지 않는다.\n",
    "\n",
    "### 입력\n",
    "---\n",
    "첫째 줄에 문자열이 주어진다. 문자열의 길이는 1보다 크거나 같고, 1,000,000보다 작거나 같다.\n",
    "\n",
    "둘째 줄에 폭발 문자열이 주어진다. 길이는 1보다 크거나 같고, 36보다 작거나 같다.\n",
    "\n",
    "두 문자열은 모두 알파벳 소문자와 대문자, 숫자 0, 1, ..., 9로만 이루어져 있다.\n",
    "\n",
    "### 출력\n",
    "---\n",
    "첫째 줄에 모든 폭발이 끝난 후 남은 문자열을 출력한다."
   ]
  },
  {
   "cell_type": "code",
   "execution_count": null,
   "metadata": {},
   "outputs": [],
   "source": [
    "arr = input()\n",
    "bomp = input()\n",
    "ans = []\n",
    "ans_len = 0\n",
    "bomp_len = len(bomp)\n",
    "for i in range(len(arr)):\n",
    "    ans.append(arr[i])\n",
    "    ans_len += 1\n",
    "    c = True\n",
    "    if ans_len>=bomp_len:\n",
    "        for j in range(bomp_len):\n",
    "            if ans[ans_len-j-1]!=bomp[bomp_len-j-1]:\n",
    "                c = False\n",
    "                break\n",
    "        if c:\n",
    "            del ans[ans_len-bomp_len:]\n",
    "            ans_len -= bomp_len\n",
    "if len(ans)==0 : print('FRULA')\n",
    "else :\n",
    "    for i in ans:\n",
    "        print(i,end='')"
   ]
  }
 ],
 "metadata": {
  "kernelspec": {
   "display_name": "Python 3",
   "language": "python",
   "name": "python3"
  },
  "language_info": {
   "codemirror_mode": {
    "name": "ipython",
    "version": 3
   },
   "file_extension": ".py",
   "mimetype": "text/x-python",
   "name": "python",
   "nbconvert_exporter": "python",
   "pygments_lexer": "ipython3",
   "version": "3.7.4"
  }
 },
 "nbformat": 4,
 "nbformat_minor": 2
}
