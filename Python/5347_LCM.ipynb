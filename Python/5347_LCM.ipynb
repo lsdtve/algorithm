{
 "cells": [
  {
   "cell_type": "markdown",
   "metadata": {},
   "source": [
    "# 5347번 : LCM\n",
    "\n",
    "### 문제\n",
    "---\n",
    "두 수 a와 b가 주어졌을 때, a와 b의 최소 공배수를 구하는 프로그램을 작성하시오.\n",
    "\n",
    "### 입력\n",
    "---\n",
    "첫째 줄에 테스트 케이스의 개수 n이 주어진다. 다음 n개 줄에는 a와 b가 주어진다. a와 b사이에는 공백이 하나 이상 있다. 두 수는 백만보다 작거나 같은 자연수이다.\n",
    "\n",
    "### 출력\n",
    "---\n",
    "각 테스트 케이스에 대해서 입력으로 주어진 두 수의 최소공배수를 출력한다."
   ]
  },
  {
   "cell_type": "code",
   "execution_count": null,
   "metadata": {},
   "outputs": [],
   "source": [
    "def go(a,b):\n",
    "    if b==0:\n",
    "        return a\n",
    "    return go(b,a%b)\n",
    "\n",
    "for _ in range(int(input())):\n",
    "    a,b = map(int,input().split())\n",
    "    ans = (a*b)//go(a,b)\n",
    "    print(ans)"
   ]
  }
 ],
 "metadata": {
  "kernelspec": {
   "display_name": "Python 3",
   "language": "python",
   "name": "python3"
  },
  "language_info": {
   "codemirror_mode": {
    "name": "ipython",
    "version": 3
   },
   "file_extension": ".py",
   "mimetype": "text/x-python",
   "name": "python",
   "nbconvert_exporter": "python",
   "pygments_lexer": "ipython3",
   "version": "3.7.3"
  }
 },
 "nbformat": 4,
 "nbformat_minor": 4
}
