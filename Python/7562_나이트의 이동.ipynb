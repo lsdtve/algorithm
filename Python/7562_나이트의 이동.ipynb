{
 "cells": [
  {
   "cell_type": "markdown",
   "metadata": {},
   "source": [
    "# 7562번 : 나이트의 이동\n",
    "\n",
    "### 문제\n",
    "---\n",
    "체스판 위에 한 나이트가 놓여져 있다. 나이트가 한 번에 이동할 수 있는 칸은 아래 그림에 나와있다. 나이트가 이동하려고 하는 칸이 주어진다. 나이트는 몇 번 움직이면 이 칸으로 이동할 수 있을까?\n",
    "\n",
    "### 입력\n",
    "---\n",
    "입력의 첫째 줄에는 테스트 케이스의 개수가 주어진다.\n",
    "\n",
    "각 테스트 케이스는 세 줄로 이루어져 있다. 첫째 줄에는 체스판의 한 변의 길이 l(4 ≤ l ≤ 300)이 주어진다. 체스판의 크기는 l × l이다. 체스판의 각 칸은 두 수의 쌍 {0, ..., l-1} × {0, ..., l-1}로 나타낼 수 있다. 둘째 줄과 셋째 줄에는 나이트가 현재 있는 칸, 나이트가 이동하려고 하는 칸이 주어진다.\n",
    "\n",
    "### 출력\n",
    "---\n",
    "각 테스트 케이스마다 나이트가 몇 번만에 이동할 수 있는지 출력한다."
   ]
  },
  {
   "cell_type": "code",
   "execution_count": null,
   "metadata": {},
   "outputs": [],
   "source": [
    "from collections import deque\n",
    "d = ((1,2),(1,-2),(-1,2),(-1,-2),(2,1),(-2,1),(2,-1),(-2,-1))\n",
    "\n",
    "for _ in range(int(input())):\n",
    "    n = int(input())\n",
    "    dist = [[0]*n for i in range(n)]\n",
    "    start = list(map(int,input().split()))\n",
    "    end = list(map(int,input().split()))\n",
    "    q = deque()\n",
    "    q.append(start)\n",
    "    while q:\n",
    "        x,y = q.popleft()\n",
    "        if [x,y]==end:\n",
    "            print(dist[y][x])\n",
    "            break\n",
    "        for dx,dy in d:\n",
    "            nx = dx+x; ny=dy+y\n",
    "            if 0<=nx<n and 0<=ny<n and dist[ny][nx]==0:\n",
    "                q.append((nx,ny))\n",
    "                dist[ny][nx] = dist[y][x]+1"
   ]
  }
 ],
 "metadata": {
  "kernelspec": {
   "display_name": "Python 3",
   "language": "python",
   "name": "python3"
  },
  "language_info": {
   "codemirror_mode": {
    "name": "ipython",
    "version": 3
   },
   "file_extension": ".py",
   "mimetype": "text/x-python",
   "name": "python",
   "nbconvert_exporter": "python",
   "pygments_lexer": "ipython3",
   "version": "3.7.4"
  }
 },
 "nbformat": 4,
 "nbformat_minor": 2
}
