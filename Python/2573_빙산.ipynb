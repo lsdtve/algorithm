{
 "cells": [
  {
   "cell_type": "markdown",
   "metadata": {},
   "source": [
    "# 2573번 : 빙산\n",
    "\n",
    "### 문제\n",
    "---\n",
    "지구 온난화로 인하여 북극의 빙산이 녹고 있다. 빙산을 그림 1과 같이 2차원 배열에 표시한다고 하자. 빙산의 각 부분별 높이 정보는 배열의 각 칸에 양의 정수로 저장된다. 빙산 이외의 바다에 해당되는 칸에는 0이 저장된다. 그림 1에서 빈칸은 모두 0으로 채워져 있다고 생각한다.\n",
    "\n",
    "\n",
    "\n",
    "그림 1. 행의 개수가 5이고 열의 개수가 7인 2차원 배열에 저장된 빙산의 높이 정보\n",
    "\n",
    "빙산의 높이는 바닷물에 많이 접해있는 부분에서 더 빨리 줄어들기 때문에, 배열에서 빙산의 각 부분에 해당되는 칸에 있는 높이는 일년마다 그 칸에 동서남북 네 방향으로 붙어있는 0이 저장된 칸의 개수만큼 줄어든다. 단, 각 칸에 저장된 높이는 0보다 더 줄어들지 않는다. 바닷물은 호수처럼 빙산에 둘러싸여 있을 수도 있다. 따라서 그림 1의 빙산은 일년후에 그림 2와 같이 변형된다.\n",
    "\n",
    "그림 3은 그림 1의 빙산이 2년 후에 변한 모습을 보여준다. 2차원 배열에서 동서남북 방향으로 붙어있는 칸들은 서로 연결되어 있다고 말한다. 따라서 그림 2의 빙산은 한 덩어리이지만, 그림 3의 빙산은 세 덩어리로 분리되어 있다.\n",
    "\n",
    "\n",
    "\n",
    "한 덩어리의 빙산이 주어질 때, 이 빙산이 두 덩어리 이상으로 분리되는 최초의 시간(년)을 구하는 프로그램을 작성하시오. 그림 1의 빙산에 대해서는 2가 답이다. 만일 전부 다 녹을 때까지 두 덩어리 이상으로 분리되지 않으면 프로그램은 0을 출력한다.\n",
    "\n",
    "### 입력\n",
    "---\n",
    "첫 줄에는 이차원 배열의 행의 개수와 열의 개수를 나타내는 두 정수 N과 M이 한 개의 빈칸을 사이에 두고 주어진다. N과 M은 3 이상 300 이하이다. 그 다음 N개의 줄에는 각 줄마다 배열의 각 행을 나타내는 M개의 정수가 한 개의 빈 칸을 사이에 두고 주어진다. 각 칸에 들어가는 값은 0 이상 10 이하이다. 배열에서 빙산이 차지하는 칸의 개수, 즉, 1 이상의 정수가 들어가는 칸의 개수는 10,000 개 이하이다. 배열의 첫 번째 행과 열, 마지막 행과 열에는 항상 0으로 채워진다.\n",
    "\n",
    "### 출력\n",
    "---\n",
    "첫 줄에 빙산이 분리되는 최초의 시간(년)을 출력한다. 만일 빙산이 다 녹을 때까지 분리되지 않으면 0을 출력한다."
   ]
  },
  {
   "cell_type": "code",
   "execution_count": null,
   "metadata": {},
   "outputs": [],
   "source": [
    "import copy\n",
    "d = ((1,0),(0,1),(-1,0),(0,-1))\n",
    "\n",
    "def dfs(x,y):\n",
    "    stack = [[x,y]]\n",
    "    visited[y][x] = True\n",
    "    while stack:\n",
    "        x,y = stack.pop()\n",
    "        for dx,dy in d:\n",
    "            nx = x+dx\n",
    "            ny = y+dy\n",
    "            if 0<=nx<M and 0<=ny<N and not visited[ny][nx]:\n",
    "                if arr[ny][nx]<=0:\n",
    "                    temp[y][x] -= 1\n",
    "                else:\n",
    "                    stack.append([nx,ny])\n",
    "                    visited[ny][nx] = True\n",
    "\n",
    "N,M = map(int,input().split())\n",
    "arr = [list(map(int,input().split())) for i in range(N)]\n",
    "time = 0\n",
    "while True:\n",
    "    temp = copy.deepcopy(arr)\n",
    "    visited = [[False]*M for i in range(N)]\n",
    "    cnt = 0\n",
    "    for y in range(N):\n",
    "        for x in range(M):\n",
    "            if arr[y][x]>0 and not visited[y][x]:\n",
    "                cnt += 1\n",
    "                dfs(x,y)\n",
    "    if cnt==0:\n",
    "        time = 0\n",
    "        break\n",
    "    elif cnt>1:\n",
    "        break\n",
    "    time += 1\n",
    "    arr = temp\n",
    "print(time)"
   ]
  }
 ],
 "metadata": {
  "kernelspec": {
   "display_name": "Python 3",
   "language": "python",
   "name": "python3"
  },
  "language_info": {
   "codemirror_mode": {
    "name": "ipython",
    "version": 3
   },
   "file_extension": ".py",
   "mimetype": "text/x-python",
   "name": "python",
   "nbconvert_exporter": "python",
   "pygments_lexer": "ipython3",
   "version": "3.7.3"
  }
 },
 "nbformat": 4,
 "nbformat_minor": 4
}
