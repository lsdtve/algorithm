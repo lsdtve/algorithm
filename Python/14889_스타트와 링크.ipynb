{
 "cells": [
  {
   "cell_type": "markdown",
   "metadata": {},
   "source": [
    "# 14889번 : 스타트와 링크\n",
    "\n",
    "### 문제\n",
    "---\n",
    "오늘은 스타트링크에 다니는 사람들이 모여서 축구를 해보려고 한다. 축구는 평일 오후에 하고 의무 참석도 아니다. 축구를 하기 위해 모인 사람은 총 N명이고 신기하게도 N은 짝수이다. 이제 N/2명으로 이루어진 스타트 팀과 링크 팀으로 사람들을 나눠야 한다.\n",
    "\n",
    "BOJ를 운영하는 회사 답게 사람에게 번호를 1부터 N까지로 배정했고, 아래와 같은 능력치를 조사했다. 능력치 Sij는 i번 사람과 j번 사람이 같은 팀에 속했을 때, 팀에 더해지는 능력치이다. 팀의 능력치는 팀에 속한 모든 쌍의 능력치 Sij의 합이다. Sij는 Sji와 다를 수도 있으며, i번 사람과 j번 사람이 같은 팀에 속했을 때, 팀에 더해지는 능력치는 Sij와 Sji이다.\n",
    "\n",
    "N=4이고, S가 아래와 같은 경우를 살펴보자.\n",
    "\n",
    "```\n",
    "   i/j  1   2\t3\t4\n",
    "    1\t0   1   2   3\n",
    "    2\t4\t0   5   6\n",
    "    3\t7\t1   0   2\n",
    "    4\t3\t4   5   0 \n",
    "```\n",
    "예를 들어, 1, 2번이 스타트 팀, 3, 4번이 링크 팀에 속한 경우에 두 팀의 능력치는 아래와 같다.\n",
    "\n",
    "스타트 팀: S12 + S21 = 1 + 4 = 5\n",
    "링크 팀: S34 + S43 = 2 + 5 = 7\n",
    "1, 3번이 스타트 팀, 2, 4번이 링크 팀에 속하면, 두 팀의 능력치는 아래와 같다.\n",
    "\n",
    "스타트 팀: S13 + S31 = 2 + 7 = 9\n",
    "링크 팀: S24 + S42 = 6 + 4 = 10\n",
    "축구를 재미있게 하기 위해서 스타트 팀의 능력치와 링크 팀의 능력치의 차이를 최소로 하려고 한다. 위의 예제와 같은 경우에는 1, 4번이 스타트 팀, 2, 3번 팀이 링크 팀에 속하면 스타트 팀의 능력치는 6, 링크 팀의 능력치는 6이 되어서 차이가 0이 되고 이 값이 최소이다.\n",
    "\n",
    "### 입력\n",
    "---\n",
    "첫째 줄에 N(4 ≤ N ≤ 20, N은 짝수)이 주어진다. 둘째 줄부터 N개의 줄에 S가 주어진다. 각 줄은 N개의 수로 이루어져 있고, i번 줄의 j번째 수는 Sij 이다. Sii는 항상 0이고, 나머지 Sij는 1보다 크거나 같고, 100보다 작거나 같은 정수이다.\n",
    "\n",
    "### 출력\n",
    "---\n",
    "첫째 줄에 스타트 팀과 링크 팀의 능력치의 차이의 최솟값을 출력한다."
   ]
  },
  {
   "cell_type": "code",
   "execution_count": null,
   "metadata": {},
   "outputs": [],
   "source": [
    "import sys\n",
    "import itertools\n",
    "n = int(sys.stdin.readline())\n",
    "arr = [list(map(int,sys.stdin.readline().split())) for i in range(n)]\n",
    "ans = 99999999\n",
    "mem = [i for i in range(n)]\n",
    "for a in itertools.combinations(mem,int(n/2)):\n",
    "    start = []\n",
    "    link = []\n",
    "    for i in mem:\n",
    "        if i in a:\n",
    "            start.append(i)\n",
    "        else:\n",
    "            link.append(i)\n",
    "    start_n = 0\n",
    "    link_n = 0\n",
    "    for i in range(n//2):\n",
    "        for j in range(i+1,n//2):\n",
    "            start_n += arr[start[i]][start[j]]+arr[start[j]][start[i]]\n",
    "            link_n += arr[link[i]][link[j]]+arr[link[j]][link[i]]\n",
    "    ans = min(ans,abs(start_n - link_n))\n",
    "print(ans)"
   ]
  }
 ],
 "metadata": {
  "kernelspec": {
   "display_name": "Python 3",
   "language": "python",
   "name": "python3"
  },
  "language_info": {
   "codemirror_mode": {
    "name": "ipython",
    "version": 3
   },
   "file_extension": ".py",
   "mimetype": "text/x-python",
   "name": "python",
   "nbconvert_exporter": "python",
   "pygments_lexer": "ipython3",
   "version": "3.7.4"
  }
 },
 "nbformat": 4,
 "nbformat_minor": 2
}
