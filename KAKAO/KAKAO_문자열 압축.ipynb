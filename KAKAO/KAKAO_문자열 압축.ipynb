{
 "cells": [
  {
   "cell_type": "markdown",
   "metadata": {},
   "source": [
    "# 문자열 압축"
   ]
  },
  {
   "cell_type": "code",
   "execution_count": null,
   "metadata": {},
   "outputs": [],
   "source": [
    "def solution(s):\n",
    "    size = len(s)\n",
    "    answer = size\n",
    "    for count in range(1,(size//2)+2):\n",
    "        temp = size\n",
    "        idx = 0\n",
    "        arr = s[0:count]\n",
    "        overlap = 0\n",
    "        while idx < size:\n",
    "            idx += count\n",
    "            if arr == s[idx:idx+count]:\n",
    "                overlap += 1\n",
    "            else:\n",
    "                if overlap >= 1:\n",
    "                    temp -= overlap*count\n",
    "                    temp += len(str(overlap+1))\n",
    "                    overlap = 0\n",
    "                arr = s[idx:idx+count]\n",
    "        answer = min(answer,temp)\n",
    "    return answer"
   ]
  }
 ],
 "metadata": {
  "kernelspec": {
   "display_name": "Python 3",
   "language": "python",
   "name": "python3"
  },
  "language_info": {
   "codemirror_mode": {
    "name": "ipython",
    "version": 3
   },
   "file_extension": ".py",
   "mimetype": "text/x-python",
   "name": "python",
   "nbconvert_exporter": "python",
   "pygments_lexer": "ipython3",
   "version": "3.7.4"
  }
 },
 "nbformat": 4,
 "nbformat_minor": 2
}
