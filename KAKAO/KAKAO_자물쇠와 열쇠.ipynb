{
 "cells": [
  {
   "cell_type": "markdown",
   "metadata": {},
   "source": [
    "# 자물쇠와 열쇠"
   ]
  },
  {
   "cell_type": "code",
   "execution_count": null,
   "metadata": {},
   "outputs": [],
   "source": [
    "def key_rotation(key):\n",
    "    m = len(key)\n",
    "    result = [[0]*m for i in range(m)]\n",
    "    for y in range(m):\n",
    "        for x in range(m):\n",
    "             result[x][y] = key[m-y-1][x]\n",
    "    return result\n",
    "\n",
    "def check(key, lock, dy, dx, lock_home):\n",
    "    lock_size = len(lock)\n",
    "    key_size = len(key)\n",
    "    cnt = 0\n",
    "    for y in range(lock_size):\n",
    "        for x in range(lock_size):\n",
    "            ny, nx = y+dy, x+dx\n",
    "            if 0 <= ny < key_size and 0 <= nx < key_size:\n",
    "                if lock[y][x] == 1 and key[ny][nx] == 1:\n",
    "                    return False\n",
    "                if lock[y][x] == 0 and key[ny][nx] == 0:\n",
    "                    return False\n",
    "                if lock[y][x] == 0 and key[ny][nx] == 1:\n",
    "                    cnt += 1\n",
    "    if lock_home == cnt:\n",
    "        return True\n",
    "    return False\n",
    "\n",
    "def solution(key, lock):\n",
    "    answer = False\n",
    "    keys = [key]\n",
    "    temp = key\n",
    "    for i in range(3):\n",
    "        temp = key_rotation(temp)\n",
    "        keys.append(temp)\n",
    "\n",
    "    key_size = len(key)\n",
    "    lock_size = len(lock)\n",
    "    lock_home = 0\n",
    "\n",
    "    for y in lock:\n",
    "        for x in y:\n",
    "            if x==0:\n",
    "                lock_home += 1\n",
    "\n",
    "    for k in keys:\n",
    "        for dy in range(-lock_size, lock_size + key_size):\n",
    "            for dx in range(-lock_size, lock_size + key_size):\n",
    "                if check(k, lock, dy, dx, lock_home):\n",
    "                    return True\n",
    "\n",
    "    return answer"
   ]
  }
 ],
 "metadata": {
  "kernelspec": {
   "display_name": "Python 3",
   "language": "python",
   "name": "python3"
  },
  "language_info": {
   "codemirror_mode": {
    "name": "ipython",
    "version": 3
   },
   "file_extension": ".py",
   "mimetype": "text/x-python",
   "name": "python",
   "nbconvert_exporter": "python",
   "pygments_lexer": "ipython3",
   "version": "3.7.4"
  }
 },
 "nbformat": 4,
 "nbformat_minor": 2
}
